{
  "nbformat": 4,
  "nbformat_minor": 0,
  "metadata": {
    "colab": {
      "provenance": []
    },
    "kernelspec": {
      "name": "python3",
      "display_name": "Python 3"
    },
    "language_info": {
      "name": "python"
    }
  },
  "cells": [
    {
      "cell_type": "code",
      "execution_count": null,
      "metadata": {
        "id": "6UB_teBh-oII"
      },
      "outputs": [],
      "source": [
        "lista = ['N', 'Não', 'Nao', 'nao', 'não', 'NAO']\n",
        "lista_sim = ['S', 'Sim', 'sim', 'SIM', 'ss']\n",
        "\n",
        "while True:\n",
        "    num1 = float(input('Digite o primeiro número: '))\n",
        "    num2 = float(input('Digite outro número: '))\n",
        "\n",
        "    calcula = int(input('Qual operação você deseja fazer?\\n'\n",
        "                        'Adição = 1\\n'\n",
        "                        'Subtração = 2\\n'\n",
        "                        'Divisão = 3\\n'\n",
        "                        'Multiplicação = 4 \\n'))\n",
        "    if calcula == 1:\n",
        "        calcula = num1 + num2\n",
        "    elif calcula == 2:\n",
        "        calcula = num1 - num2\n",
        "    elif calcula == 3:\n",
        "        calcula = num1 / num2\n",
        "    else:\n",
        "        calcula = num1 * num2\n",
        "\n",
        "    print(calcula)\n"
      ]
    }
  ]
}